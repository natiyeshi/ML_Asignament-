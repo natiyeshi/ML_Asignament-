{
 "cells": [
  {
   "cell_type": "code",
   "execution_count": 1,
   "metadata": {},
   "outputs": [
    {
     "name": "stdout",
     "output_type": "stream",
     "text": [
      "        Type  Area   Location       Price\n",
      "0        g+2   100       Bole    20000000\n",
      "1      villa   333      lafto   999999999\n",
      "2  apartment    76       Ayat  5000000000\n",
      "3      villa   567       koye   992479999\n",
      "4  apartment    76  Tuludimtu  5000000000\n"
     ]
    }
   ],
   "source": [
    "import csv\n",
    "\n",
    "import pandas as pd\n",
    "\n",
    "\n",
    "fields = ['Type', 'Area', 'Location','Price']\n",
    "rows = [ ['g+2', 100, 'Bole','20000000'],\n",
    "         ['villa', 333, 'lafto','999999999'],\n",
    "         ['apartment', 76, 'Ayat','5000000000'],\n",
    "         ['villa', 567, 'koye','992479999'],\n",
    "         ['apartment', 76, 'Tuludimtu','5000000000']\n",
    "           ]\n",
    "\n",
    "filename = \"house.csv\"\n",
    "\n",
    "with open(filename, 'w') as csvfile:\n",
    "    csvwriter = csv.writer(csvfile)\n",
    "    csvwriter.writerow(fields)\n",
    "    csvwriter.writerows(rows)\n",
    "test=pd.read_csv('house.csv')\n",
    "print(test)\n"
   ]
  },
  {
   "cell_type": "markdown",
   "metadata": {},
   "source": [
    "Crud functions"
   ]
  },
  {
   "cell_type": "code",
   "execution_count": 20,
   "metadata": {},
   "outputs": [],
   "source": [
    "import pandas as pd\n",
    "\n",
    "def create(Type, Area, Location,Price):\n",
    "    new_house = pd.DataFrame([{'Type':Type , 'Area': Area, 'Location':Location,'Price':Price}])\n",
    "    new_house.to_csv('house.csv', mode='a', header=False, index=False)\n",
    "\n",
    "def read():\n",
    "    return pd.read_csv('house.csv')\n",
    "\n",
    "    \n",
    "def update(index, Type, Area, Location,Price):\n",
    "    df = pd.read_csv('house.csv')\n",
    "    df.loc[index, ['Type', 'Area', 'Location','Price']] = Type, Area, Location,Price\n",
    "    df.to_csv('house.csv', index=False)\n",
    "\n",
    "def delete(id):\n",
    "    df = pd.read_csv('house.csv')\n",
    "    df = df[df['id'] != id]\n",
    "    df.to_csv('house.csv', index=False)\n",
    "\n",
    "\n"
   ]
  },
  {
   "cell_type": "markdown",
   "metadata": {},
   "source": [
    "Calling the crud Functions"
   ]
  },
  {
   "cell_type": "code",
   "execution_count": 24,
   "metadata": {},
   "outputs": [
    {
     "name": "stdout",
     "output_type": "stream",
     "text": [
      "        Type    Area     Location         Price\n",
      "0      Villa    3000  Los Angeles        500000\n",
      "1      villa     333        lafto     999999999\n",
      "2  apartment      76         Ayat    5000000000\n",
      "3      villa     567         koye     992479999\n",
      "4  apartment      76    Tuludimtu    5000000000\n",
      "5  Apartment    1200     New York        200000\n",
      "6  Apartment    1200     New York        200000\n",
      "7  Apartment    1200     New York        200000\n",
      "8  Apartment  129876     New York  200987654670\n"
     ]
    }
   ],
   "source": [
    "create('Apartment', 129876, 'New York', 200987654670)\n",
    "\n",
    "data = read()\n",
    "print(data)\n"
   ]
  },
  {
   "cell_type": "code",
   "execution_count": 12,
   "metadata": {},
   "outputs": [
    {
     "name": "stdout",
     "output_type": "stream",
     "text": [
      "        Type  Area   Location       Price\n",
      "0        g+2   100       Bole    20000000\n",
      "1      villa   333      lafto   999999999\n",
      "2  apartment    76       Ayat  5000000000\n",
      "3      villa   567       koye   992479999\n",
      "4  apartment    76  Tuludimtu  5000000000\n",
      "5  Apartment  1200   New York      200000\n"
     ]
    }
   ],
   "source": [
    "print(read())"
   ]
  },
  {
   "cell_type": "markdown",
   "metadata": {},
   "source": [
    "Working on pandas"
   ]
  },
  {
   "cell_type": "code",
   "execution_count": 1,
   "metadata": {},
   "outputs": [
    {
     "name": "stdout",
     "output_type": "stream",
     "text": [
      "  one two three\n",
      "0   1   2     3\n"
     ]
    }
   ],
   "source": [
    "import pandas as pd\n",
    "\n",
    "dataframe = pd.DataFrame()\n",
    "col = ['one', 'two', 'three']\n",
    "dataframe = pd.DataFrame(columns=col)\n",
    "\n",
    "dataframe = pd.concat([dataframe, pd.DataFrame({'one': 1, \"two\": 2, \"three\": 3}, index=[0])])\n",
    "dataframe\n",
    "\n",
    "print(dataframe)"
   ]
  },
  {
   "cell_type": "markdown",
   "metadata": {},
   "source": [
    "Dataset From Kaggle "
   ]
  },
  {
   "cell_type": "code",
   "execution_count": 18,
   "metadata": {},
   "outputs": [
    {
     "name": "stdout",
     "output_type": "stream",
     "text": [
      "First 20 rows of the dataset:\n",
      "                  date      price  bedrooms  bathrooms  sqft_living  sqft_lot  \\\n",
      "0  2014-05-02 00:00:00   313000.0       3.0       1.50         1340      7912   \n",
      "1  2014-05-02 00:00:00  2384000.0       5.0       2.50         3650      9050   \n",
      "2  2014-05-02 00:00:00   342000.0       3.0       2.00         1930     11947   \n",
      "3  2014-05-02 00:00:00   420000.0       3.0       2.25         2000      8030   \n",
      "4  2014-05-02 00:00:00   550000.0       4.0       2.50         1940     10500   \n",
      "\n",
      "   floors  waterfront  view  condition  sqft_above  sqft_basement  yr_built  \\\n",
      "0     1.5           0     0          3        1340              0      1955   \n",
      "1     2.0           0     4          5        3370            280      1921   \n",
      "2     1.0           0     0          4        1930              0      1966   \n",
      "3     1.0           0     0          4        1000           1000      1963   \n",
      "4     1.0           0     0          4        1140            800      1976   \n",
      "\n",
      "   yr_renovated                    street       city  statezip country  \n",
      "0          2005      18810 Densmore Ave N  Shoreline  WA 98133     USA  \n",
      "1             0           709 W Blaine St    Seattle  WA 98119     USA  \n",
      "2             0  26206-26214 143rd Ave SE       Kent  WA 98042     USA  \n",
      "3             0           857 170th Pl NE   Bellevue  WA 98008     USA  \n",
      "4          1992         9105 170th Ave NE    Redmond  WA 98052     USA  \n"
     ]
    }
   ],
   "source": [
    "\n",
    "import pandas as pd\n",
    "import numpy as n\n",
    "\n",
    "\n",
    "data = pd.read_csv('data.csv')\n",
    "print(\"First 20 rows of the dataset:\")\n",
    "print(data.head())\n",
    "\n"
   ]
  }
 ],
 "metadata": {
  "kernelspec": {
   "display_name": "Python 3",
   "language": "python",
   "name": "python3"
  },
  "language_info": {
   "codemirror_mode": {
    "name": "ipython",
    "version": 3
   },
   "file_extension": ".py",
   "mimetype": "text/x-python",
   "name": "python",
   "nbconvert_exporter": "python",
   "pygments_lexer": "ipython3",
   "version": "3.12.3"
  }
 },
 "nbformat": 4,
 "nbformat_minor": 2
}
