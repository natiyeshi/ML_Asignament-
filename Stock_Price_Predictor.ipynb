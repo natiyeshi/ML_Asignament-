{
 "cells": [
  {
   "cell_type": "markdown",
   "metadata": {},
   "source": [
    "This script predicts future stock prices using Linear Regression. It reads historical stock data from a CSV file, splits the data into training and testing sets, and trains a Linear Regression model. The model's performance is evaluated using R-squared. The script then uses the model to predict stock prices for a specified number of future days and prints these predictions."
   ]
  },
  {
   "cell_type": "code",
   "execution_count": null,
   "metadata": {},
   "outputs": [],
   "source": [
    "import pandas as pd\n",
    "from sklearn.linear_model import LinearRegression\n",
    "from sklearn.model_selection import train_test_split\n",
    "\n",
    "def predict_future_prices(dataframe, num_days):\n",
    "    X = dataframe.index.astype('int64') // 10**9  # Convert dates to Unix timestamp (seconds since epoch)\n",
    "    y = dataframe['Close']\n",
    "\n",
    "    X_train, X_test, y_train, y_test = train_test_split(X, y, test_size=0.2, shuffle=False)\n",
    "\n",
    "    model = LinearRegression()\n",
    "    model.fit(X_train.values.reshape(-1, 1), y_train)\n",
    "\n",
    "    train_score = model.score(X_train.values.reshape(-1, 1), y_train)\n",
    "    test_score = model.score(X_test.values.reshape(-1, 1), y_test)\n",
    "\n",
    "    print(f'Training R-squared: {train_score:.2f}')\n",
    "    print(f'Testing R-squared: {test_score:.2f}')\n",
    "\n",
    "    last_date = dataframe.index[-1]\n",
    "    future_dates = pd.date_range(start=last_date, periods=num_days, freq='D')\n",
    "    future_timestamps = (future_dates - pd.Timestamp(\"1970-01-01\")) // pd.Timedelta('1s')\n",
    "    future_prices = model.predict(future_timestamps.values.reshape(-1, 1))\n",
    "\n",
    "    for date, price in zip(future_dates, future_prices):\n",
    "        print(f'Predicted price for {date.date()}: ${price:.2f}')\n",
    "\n",
    "df = pd.read_csv('GOOG.csv', parse_dates=['Date'], index_col='Date')\n",
    "\n",
    "num_days = 7\n",
    "predict_future_prices(df, num_days)"
   ]
  },
  {
   "cell_type": "markdown",
   "metadata": {},
   "source": [
    "This script predicts future stock prices using Ridge Regression. It reads historical stock data, splits it into training and testing sets, and trains a Ridge Regression model. The model's performance is evaluated using R-squared. The script then uses the model to predict stock prices for a specified number of future days and prints these predictions."
   ]
  },
  {
   "cell_type": "code",
   "execution_count": 4,
   "metadata": {},
   "outputs": [
    {
     "name": "stdout",
     "output_type": "stream",
     "text": [
      "Training R-squared: 0.85\n",
      "Testing R-squared: -3.77\n",
      "Predicted price for 2023-12-05: $65.82\n",
      "Predicted price for 2023-12-06: $65.83\n",
      "Predicted price for 2023-12-07: $65.84\n",
      "Predicted price for 2023-12-08: $65.85\n",
      "Predicted price for 2023-12-09: $65.86\n",
      "Predicted price for 2023-12-10: $65.87\n",
      "Predicted price for 2023-12-11: $65.88\n"
     ]
    }
   ],
   "source": [
    "from sklearn.linear_model import Ridge\n",
    "\n",
    "def predict_future_prices_ridge(dataframe, num_days):\n",
    "    X = dataframe.index.astype('int64') // 10**9  \n",
    "    y = dataframe['Close']\n",
    "\n",
    "    X_train, X_test, y_train, y_test = train_test_split(X, y, test_size=0.2, shuffle=False)\n",
    "\n",
    "    model = Ridge()\n",
    "    model.fit(X_train.values.reshape(-1, 1), y_train)\n",
    "\n",
    "    train_score = model.score(X_train.values.reshape(-1, 1), y_train)\n",
    "    test_score = model.score(X_test.values.reshape(-1, 1), y_test)\n",
    "\n",
    "    print(f'Training R-squared: {train_score:.2f}')\n",
    "    print(f'Testing R-squared: {test_score:.2f}')\n",
    "\n",
    "    last_date = dataframe.index[-1]\n",
    "    future_dates = pd.date_range(start=last_date, periods=num_days, freq='D')\n",
    "    future_timestamps = (future_dates - pd.Timestamp(\"1970-01-01\")) // pd.Timedelta('1s')\n",
    "    future_prices = model.predict(future_timestamps.values.reshape(-1, 1))\n",
    "\n",
    "    for date, price in zip(future_dates, future_prices):\n",
    "        print(f'Predicted price for {date.date()}: ${price:.2f}')\n",
    "\n",
    "num_days = 7\n",
    "predict_future_prices_ridge(df, num_days)"
   ]
  }
 ],
 "metadata": {
  "kernelspec": {
   "display_name": "Python 3",
   "language": "python",
   "name": "python3"
  },
  "language_info": {
   "codemirror_mode": {
    "name": "ipython",
    "version": 3
   },
   "file_extension": ".py",
   "mimetype": "text/x-python",
   "name": "python",
   "nbconvert_exporter": "python",
   "pygments_lexer": "ipython3",
   "version": "3.12.3"
  }
 },
 "nbformat": 4,
 "nbformat_minor": 2
}
